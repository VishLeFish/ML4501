{
 "cells": [
  {
   "cell_type": "markdown",
   "metadata": {},
   "source": [
    "# Predict The World Happiness Through ML"
   ]
  },
  {
   "cell_type": "markdown",
   "metadata": {},
   "source": [
    "CS 4501 - ML\n",
    "\n",
    "Vish Panagari & Kat Young"
   ]
  },
  {
   "cell_type": "markdown",
   "metadata": {},
   "source": [
    "# 1. The Big Picture"
   ]
  },
  {
   "cell_type": "markdown",
   "metadata": {},
   "source": [
    "What to expect, use and benefit from this model?\n",
    "\n",
    "What learning algorithm to use?\n",
    "\n",
    "What performance measure to evaluate?\n",
    "\n",
    "How much effort to be spent?"
   ]
  },
  {
   "cell_type": "markdown",
   "metadata": {},
   "source": [
    "# 2. Getting the Data"
   ]
  },
  {
   "cell_type": "code",
   "execution_count": 100,
   "metadata": {},
   "outputs": [
    {
     "data": {
      "text/html": [
       "<div>\n",
       "<style scoped>\n",
       "    .dataframe tbody tr th:only-of-type {\n",
       "        vertical-align: middle;\n",
       "    }\n",
       "\n",
       "    .dataframe tbody tr th {\n",
       "        vertical-align: top;\n",
       "    }\n",
       "\n",
       "    .dataframe thead th {\n",
       "        text-align: right;\n",
       "    }\n",
       "</style>\n",
       "<table border=\"1\" class=\"dataframe\">\n",
       "  <thead>\n",
       "    <tr style=\"text-align: right;\">\n",
       "      <th></th>\n",
       "      <th>Country</th>\n",
       "      <th>Happiness.Rank</th>\n",
       "      <th>Happiness.Score</th>\n",
       "      <th>Whisker.high</th>\n",
       "      <th>Whisker.low</th>\n",
       "      <th>Economy..GDP.per.Capita.</th>\n",
       "      <th>Family</th>\n",
       "      <th>Health..Life.Expectancy.</th>\n",
       "      <th>Freedom</th>\n",
       "      <th>Generosity</th>\n",
       "      <th>Trust..Government.Corruption.</th>\n",
       "      <th>Dystopia.Residual</th>\n",
       "    </tr>\n",
       "  </thead>\n",
       "  <tbody>\n",
       "    <tr>\n",
       "      <th>0</th>\n",
       "      <td>Norway</td>\n",
       "      <td>1</td>\n",
       "      <td>7.537</td>\n",
       "      <td>7.594445</td>\n",
       "      <td>7.479556</td>\n",
       "      <td>1.616463</td>\n",
       "      <td>1.533524</td>\n",
       "      <td>0.796667</td>\n",
       "      <td>0.635423</td>\n",
       "      <td>0.362012</td>\n",
       "      <td>0.315964</td>\n",
       "      <td>2.277027</td>\n",
       "    </tr>\n",
       "    <tr>\n",
       "      <th>1</th>\n",
       "      <td>Denmark</td>\n",
       "      <td>2</td>\n",
       "      <td>7.522</td>\n",
       "      <td>7.581728</td>\n",
       "      <td>7.462272</td>\n",
       "      <td>1.482383</td>\n",
       "      <td>1.551122</td>\n",
       "      <td>0.792566</td>\n",
       "      <td>0.626007</td>\n",
       "      <td>0.355280</td>\n",
       "      <td>0.400770</td>\n",
       "      <td>2.313707</td>\n",
       "    </tr>\n",
       "    <tr>\n",
       "      <th>2</th>\n",
       "      <td>Iceland</td>\n",
       "      <td>3</td>\n",
       "      <td>7.504</td>\n",
       "      <td>7.622030</td>\n",
       "      <td>7.385970</td>\n",
       "      <td>1.480633</td>\n",
       "      <td>1.610574</td>\n",
       "      <td>0.833552</td>\n",
       "      <td>0.627163</td>\n",
       "      <td>0.475540</td>\n",
       "      <td>0.153527</td>\n",
       "      <td>2.322715</td>\n",
       "    </tr>\n",
       "    <tr>\n",
       "      <th>3</th>\n",
       "      <td>Switzerland</td>\n",
       "      <td>4</td>\n",
       "      <td>7.494</td>\n",
       "      <td>7.561772</td>\n",
       "      <td>7.426227</td>\n",
       "      <td>1.564980</td>\n",
       "      <td>1.516912</td>\n",
       "      <td>0.858131</td>\n",
       "      <td>0.620071</td>\n",
       "      <td>0.290549</td>\n",
       "      <td>0.367007</td>\n",
       "      <td>2.276716</td>\n",
       "    </tr>\n",
       "    <tr>\n",
       "      <th>4</th>\n",
       "      <td>Finland</td>\n",
       "      <td>5</td>\n",
       "      <td>7.469</td>\n",
       "      <td>7.527542</td>\n",
       "      <td>7.410458</td>\n",
       "      <td>1.443572</td>\n",
       "      <td>1.540247</td>\n",
       "      <td>0.809158</td>\n",
       "      <td>0.617951</td>\n",
       "      <td>0.245483</td>\n",
       "      <td>0.382612</td>\n",
       "      <td>2.430182</td>\n",
       "    </tr>\n",
       "  </tbody>\n",
       "</table>\n",
       "</div>"
      ],
      "text/plain": [
       "       Country  Happiness.Rank  Happiness.Score  Whisker.high  Whisker.low  \\\n",
       "0       Norway               1            7.537      7.594445     7.479556   \n",
       "1      Denmark               2            7.522      7.581728     7.462272   \n",
       "2      Iceland               3            7.504      7.622030     7.385970   \n",
       "3  Switzerland               4            7.494      7.561772     7.426227   \n",
       "4      Finland               5            7.469      7.527542     7.410458   \n",
       "\n",
       "   Economy..GDP.per.Capita.    Family  Health..Life.Expectancy.   Freedom  \\\n",
       "0                  1.616463  1.533524                  0.796667  0.635423   \n",
       "1                  1.482383  1.551122                  0.792566  0.626007   \n",
       "2                  1.480633  1.610574                  0.833552  0.627163   \n",
       "3                  1.564980  1.516912                  0.858131  0.620071   \n",
       "4                  1.443572  1.540247                  0.809158  0.617951   \n",
       "\n",
       "   Generosity  Trust..Government.Corruption.  Dystopia.Residual  \n",
       "0    0.362012                       0.315964           2.277027  \n",
       "1    0.355280                       0.400770           2.313707  \n",
       "2    0.475540                       0.153527           2.322715  \n",
       "3    0.290549                       0.367007           2.276716  \n",
       "4    0.245483                       0.382612           2.430182  "
      ]
     },
     "execution_count": 100,
     "metadata": {},
     "output_type": "execute_result"
    }
   ],
   "source": [
    "import pandas as pd\n",
    "import numpy as np\n",
    "\n",
    "happiness_df = pd.read_csv(\"World_Happiness_2017.csv\")\n",
    "happiness_df.head()"
   ]
  },
  {
   "cell_type": "code",
   "execution_count": 101,
   "metadata": {},
   "outputs": [
    {
     "name": "stdout",
     "output_type": "stream",
     "text": [
      "<class 'pandas.core.frame.DataFrame'>\n",
      "RangeIndex: 155 entries, 0 to 154\n",
      "Data columns (total 12 columns):\n",
      "Country                          155 non-null object\n",
      "Happiness.Rank                   155 non-null int64\n",
      "Happiness.Score                  155 non-null float64\n",
      "Whisker.high                     155 non-null float64\n",
      "Whisker.low                      155 non-null float64\n",
      "Economy..GDP.per.Capita.         155 non-null float64\n",
      "Family                           155 non-null float64\n",
      "Health..Life.Expectancy.         155 non-null float64\n",
      "Freedom                          155 non-null float64\n",
      "Generosity                       155 non-null float64\n",
      "Trust..Government.Corruption.    155 non-null float64\n",
      "Dystopia.Residual                155 non-null float64\n",
      "dtypes: float64(10), int64(1), object(1)\n",
      "memory usage: 14.6+ KB\n"
     ]
    }
   ],
   "source": [
    "# LOOK AT INFO\n",
    "happiness_df.info()"
   ]
  },
  {
   "cell_type": "code",
   "execution_count": 102,
   "metadata": {},
   "outputs": [
    {
     "data": {
      "text/html": [
       "<div>\n",
       "<style scoped>\n",
       "    .dataframe tbody tr th:only-of-type {\n",
       "        vertical-align: middle;\n",
       "    }\n",
       "\n",
       "    .dataframe tbody tr th {\n",
       "        vertical-align: top;\n",
       "    }\n",
       "\n",
       "    .dataframe thead th {\n",
       "        text-align: right;\n",
       "    }\n",
       "</style>\n",
       "<table border=\"1\" class=\"dataframe\">\n",
       "  <thead>\n",
       "    <tr style=\"text-align: right;\">\n",
       "      <th></th>\n",
       "      <th>Happiness.Rank</th>\n",
       "      <th>Happiness.Score</th>\n",
       "      <th>Whisker.high</th>\n",
       "      <th>Whisker.low</th>\n",
       "      <th>Economy..GDP.per.Capita.</th>\n",
       "      <th>Family</th>\n",
       "      <th>Health..Life.Expectancy.</th>\n",
       "      <th>Freedom</th>\n",
       "      <th>Generosity</th>\n",
       "      <th>Trust..Government.Corruption.</th>\n",
       "      <th>Dystopia.Residual</th>\n",
       "    </tr>\n",
       "  </thead>\n",
       "  <tbody>\n",
       "    <tr>\n",
       "      <th>count</th>\n",
       "      <td>155.000000</td>\n",
       "      <td>155.000000</td>\n",
       "      <td>155.000000</td>\n",
       "      <td>155.000000</td>\n",
       "      <td>155.000000</td>\n",
       "      <td>155.000000</td>\n",
       "      <td>155.000000</td>\n",
       "      <td>155.000000</td>\n",
       "      <td>155.000000</td>\n",
       "      <td>155.000000</td>\n",
       "      <td>155.000000</td>\n",
       "    </tr>\n",
       "    <tr>\n",
       "      <th>mean</th>\n",
       "      <td>78.000000</td>\n",
       "      <td>5.354019</td>\n",
       "      <td>5.452326</td>\n",
       "      <td>5.255713</td>\n",
       "      <td>0.984718</td>\n",
       "      <td>1.188898</td>\n",
       "      <td>0.551341</td>\n",
       "      <td>0.408786</td>\n",
       "      <td>0.246883</td>\n",
       "      <td>0.123120</td>\n",
       "      <td>1.850238</td>\n",
       "    </tr>\n",
       "    <tr>\n",
       "      <th>std</th>\n",
       "      <td>44.888751</td>\n",
       "      <td>1.131230</td>\n",
       "      <td>1.118542</td>\n",
       "      <td>1.145030</td>\n",
       "      <td>0.420793</td>\n",
       "      <td>0.287263</td>\n",
       "      <td>0.237073</td>\n",
       "      <td>0.149997</td>\n",
       "      <td>0.134780</td>\n",
       "      <td>0.101661</td>\n",
       "      <td>0.500028</td>\n",
       "    </tr>\n",
       "    <tr>\n",
       "      <th>min</th>\n",
       "      <td>1.000000</td>\n",
       "      <td>2.693000</td>\n",
       "      <td>2.864884</td>\n",
       "      <td>2.521116</td>\n",
       "      <td>0.000000</td>\n",
       "      <td>0.000000</td>\n",
       "      <td>0.000000</td>\n",
       "      <td>0.000000</td>\n",
       "      <td>0.000000</td>\n",
       "      <td>0.000000</td>\n",
       "      <td>0.377914</td>\n",
       "    </tr>\n",
       "    <tr>\n",
       "      <th>25%</th>\n",
       "      <td>39.500000</td>\n",
       "      <td>4.505500</td>\n",
       "      <td>4.608172</td>\n",
       "      <td>4.374955</td>\n",
       "      <td>0.663371</td>\n",
       "      <td>1.042635</td>\n",
       "      <td>0.369866</td>\n",
       "      <td>0.303677</td>\n",
       "      <td>0.154106</td>\n",
       "      <td>0.057271</td>\n",
       "      <td>1.591291</td>\n",
       "    </tr>\n",
       "    <tr>\n",
       "      <th>50%</th>\n",
       "      <td>78.000000</td>\n",
       "      <td>5.279000</td>\n",
       "      <td>5.370032</td>\n",
       "      <td>5.193152</td>\n",
       "      <td>1.064578</td>\n",
       "      <td>1.253918</td>\n",
       "      <td>0.606042</td>\n",
       "      <td>0.437454</td>\n",
       "      <td>0.231538</td>\n",
       "      <td>0.089848</td>\n",
       "      <td>1.832910</td>\n",
       "    </tr>\n",
       "    <tr>\n",
       "      <th>75%</th>\n",
       "      <td>116.500000</td>\n",
       "      <td>6.101500</td>\n",
       "      <td>6.194600</td>\n",
       "      <td>6.006527</td>\n",
       "      <td>1.318027</td>\n",
       "      <td>1.414316</td>\n",
       "      <td>0.723008</td>\n",
       "      <td>0.516561</td>\n",
       "      <td>0.323762</td>\n",
       "      <td>0.153296</td>\n",
       "      <td>2.144654</td>\n",
       "    </tr>\n",
       "    <tr>\n",
       "      <th>max</th>\n",
       "      <td>155.000000</td>\n",
       "      <td>7.537000</td>\n",
       "      <td>7.622030</td>\n",
       "      <td>7.479556</td>\n",
       "      <td>1.870766</td>\n",
       "      <td>1.610574</td>\n",
       "      <td>0.949492</td>\n",
       "      <td>0.658249</td>\n",
       "      <td>0.838075</td>\n",
       "      <td>0.464308</td>\n",
       "      <td>3.117485</td>\n",
       "    </tr>\n",
       "  </tbody>\n",
       "</table>\n",
       "</div>"
      ],
      "text/plain": [
       "       Happiness.Rank  Happiness.Score  Whisker.high  Whisker.low  \\\n",
       "count      155.000000       155.000000    155.000000   155.000000   \n",
       "mean        78.000000         5.354019      5.452326     5.255713   \n",
       "std         44.888751         1.131230      1.118542     1.145030   \n",
       "min          1.000000         2.693000      2.864884     2.521116   \n",
       "25%         39.500000         4.505500      4.608172     4.374955   \n",
       "50%         78.000000         5.279000      5.370032     5.193152   \n",
       "75%        116.500000         6.101500      6.194600     6.006527   \n",
       "max        155.000000         7.537000      7.622030     7.479556   \n",
       "\n",
       "       Economy..GDP.per.Capita.      Family  Health..Life.Expectancy.  \\\n",
       "count                155.000000  155.000000                155.000000   \n",
       "mean                   0.984718    1.188898                  0.551341   \n",
       "std                    0.420793    0.287263                  0.237073   \n",
       "min                    0.000000    0.000000                  0.000000   \n",
       "25%                    0.663371    1.042635                  0.369866   \n",
       "50%                    1.064578    1.253918                  0.606042   \n",
       "75%                    1.318027    1.414316                  0.723008   \n",
       "max                    1.870766    1.610574                  0.949492   \n",
       "\n",
       "          Freedom  Generosity  Trust..Government.Corruption.  \\\n",
       "count  155.000000  155.000000                     155.000000   \n",
       "mean     0.408786    0.246883                       0.123120   \n",
       "std      0.149997    0.134780                       0.101661   \n",
       "min      0.000000    0.000000                       0.000000   \n",
       "25%      0.303677    0.154106                       0.057271   \n",
       "50%      0.437454    0.231538                       0.089848   \n",
       "75%      0.516561    0.323762                       0.153296   \n",
       "max      0.658249    0.838075                       0.464308   \n",
       "\n",
       "       Dystopia.Residual  \n",
       "count         155.000000  \n",
       "mean            1.850238  \n",
       "std             0.500028  \n",
       "min             0.377914  \n",
       "25%             1.591291  \n",
       "50%             1.832910  \n",
       "75%             2.144654  \n",
       "max             3.117485  "
      ]
     },
     "execution_count": 102,
     "metadata": {},
     "output_type": "execute_result"
    }
   ],
   "source": [
    "# Learn basic statistics\n",
    "happiness_df.describe()"
   ]
  },
  {
   "cell_type": "code",
   "execution_count": 103,
   "metadata": {},
   "outputs": [
    {
     "data": {
      "text/html": [
       "<div>\n",
       "<style scoped>\n",
       "    .dataframe tbody tr th:only-of-type {\n",
       "        vertical-align: middle;\n",
       "    }\n",
       "\n",
       "    .dataframe tbody tr th {\n",
       "        vertical-align: top;\n",
       "    }\n",
       "\n",
       "    .dataframe thead th {\n",
       "        text-align: right;\n",
       "    }\n",
       "</style>\n",
       "<table border=\"1\" class=\"dataframe\">\n",
       "  <thead>\n",
       "    <tr style=\"text-align: right;\">\n",
       "      <th></th>\n",
       "      <th>Country</th>\n",
       "      <th>Happiness.Rank</th>\n",
       "      <th>Happiness.Score</th>\n",
       "      <th>Whisker.high</th>\n",
       "      <th>Whisker.low</th>\n",
       "      <th>Economy..GDP.per.Capita.</th>\n",
       "      <th>Family</th>\n",
       "      <th>Health..Life.Expectancy.</th>\n",
       "      <th>Freedom</th>\n",
       "      <th>Generosity</th>\n",
       "      <th>Trust..Government.Corruption.</th>\n",
       "      <th>Dystopia.Residual</th>\n",
       "    </tr>\n",
       "  </thead>\n",
       "  <tbody>\n",
       "    <tr>\n",
       "      <th>96</th>\n",
       "      <td>Bhutan</td>\n",
       "      <td>97</td>\n",
       "      <td>5.011</td>\n",
       "      <td>5.079335</td>\n",
       "      <td>4.942666</td>\n",
       "      <td>0.885416</td>\n",
       "      <td>1.340127</td>\n",
       "      <td>0.495879</td>\n",
       "      <td>0.501538</td>\n",
       "      <td>0.474055</td>\n",
       "      <td>0.173380</td>\n",
       "      <td>1.140184</td>\n",
       "    </tr>\n",
       "    <tr>\n",
       "      <th>122</th>\n",
       "      <td>Mauritania</td>\n",
       "      <td>123</td>\n",
       "      <td>4.292</td>\n",
       "      <td>4.377164</td>\n",
       "      <td>4.206836</td>\n",
       "      <td>0.648457</td>\n",
       "      <td>1.272031</td>\n",
       "      <td>0.285349</td>\n",
       "      <td>0.096098</td>\n",
       "      <td>0.201870</td>\n",
       "      <td>0.136957</td>\n",
       "      <td>1.651637</td>\n",
       "    </tr>\n",
       "    <tr>\n",
       "      <th>82</th>\n",
       "      <td>Montenegro</td>\n",
       "      <td>83</td>\n",
       "      <td>5.237</td>\n",
       "      <td>5.341044</td>\n",
       "      <td>5.132956</td>\n",
       "      <td>1.121129</td>\n",
       "      <td>1.238376</td>\n",
       "      <td>0.667465</td>\n",
       "      <td>0.194989</td>\n",
       "      <td>0.197911</td>\n",
       "      <td>0.088174</td>\n",
       "      <td>1.729192</td>\n",
       "    </tr>\n",
       "    <tr>\n",
       "      <th>109</th>\n",
       "      <td>Bangladesh</td>\n",
       "      <td>110</td>\n",
       "      <td>4.608</td>\n",
       "      <td>4.689822</td>\n",
       "      <td>4.526178</td>\n",
       "      <td>0.586683</td>\n",
       "      <td>0.735132</td>\n",
       "      <td>0.533241</td>\n",
       "      <td>0.478357</td>\n",
       "      <td>0.172255</td>\n",
       "      <td>0.123718</td>\n",
       "      <td>1.978736</td>\n",
       "    </tr>\n",
       "    <tr>\n",
       "      <th>65</th>\n",
       "      <td>Estonia</td>\n",
       "      <td>66</td>\n",
       "      <td>5.611</td>\n",
       "      <td>5.688140</td>\n",
       "      <td>5.533860</td>\n",
       "      <td>1.320879</td>\n",
       "      <td>1.476671</td>\n",
       "      <td>0.695168</td>\n",
       "      <td>0.479131</td>\n",
       "      <td>0.098891</td>\n",
       "      <td>0.183249</td>\n",
       "      <td>1.357509</td>\n",
       "    </tr>\n",
       "  </tbody>\n",
       "</table>\n",
       "</div>"
      ],
      "text/plain": [
       "        Country  Happiness.Rank  Happiness.Score  Whisker.high  Whisker.low  \\\n",
       "96       Bhutan              97            5.011      5.079335     4.942666   \n",
       "122  Mauritania             123            4.292      4.377164     4.206836   \n",
       "82   Montenegro              83            5.237      5.341044     5.132956   \n",
       "109  Bangladesh             110            4.608      4.689822     4.526178   \n",
       "65      Estonia              66            5.611      5.688140     5.533860   \n",
       "\n",
       "     Economy..GDP.per.Capita.    Family  Health..Life.Expectancy.   Freedom  \\\n",
       "96                   0.885416  1.340127                  0.495879  0.501538   \n",
       "122                  0.648457  1.272031                  0.285349  0.096098   \n",
       "82                   1.121129  1.238376                  0.667465  0.194989   \n",
       "109                  0.586683  0.735132                  0.533241  0.478357   \n",
       "65                   1.320879  1.476671                  0.695168  0.479131   \n",
       "\n",
       "     Generosity  Trust..Government.Corruption.  Dystopia.Residual  \n",
       "96     0.474055                       0.173380           1.140184  \n",
       "122    0.201870                       0.136957           1.651637  \n",
       "82     0.197911                       0.088174           1.729192  \n",
       "109    0.172255                       0.123718           1.978736  \n",
       "65     0.098891                       0.183249           1.357509  "
      ]
     },
     "execution_count": 103,
     "metadata": {},
     "output_type": "execute_result"
    }
   ],
   "source": [
    "from sklearn.model_selection import train_test_split\n",
    "train_set, test_set = train_test_split(happiness_df, test_size=0.2, random_state=42)\n",
    "\n",
    "train_set.head()\n"
   ]
  },
  {
   "cell_type": "code",
   "execution_count": 104,
   "metadata": {},
   "outputs": [
    {
     "data": {
      "text/html": [
       "<div>\n",
       "<style scoped>\n",
       "    .dataframe tbody tr th:only-of-type {\n",
       "        vertical-align: middle;\n",
       "    }\n",
       "\n",
       "    .dataframe tbody tr th {\n",
       "        vertical-align: top;\n",
       "    }\n",
       "\n",
       "    .dataframe thead th {\n",
       "        text-align: right;\n",
       "    }\n",
       "</style>\n",
       "<table border=\"1\" class=\"dataframe\">\n",
       "  <thead>\n",
       "    <tr style=\"text-align: right;\">\n",
       "      <th></th>\n",
       "      <th>Country</th>\n",
       "      <th>Happiness.Rank</th>\n",
       "      <th>Happiness.Score</th>\n",
       "      <th>Whisker.high</th>\n",
       "      <th>Whisker.low</th>\n",
       "      <th>Economy..GDP.per.Capita.</th>\n",
       "      <th>Family</th>\n",
       "      <th>Health..Life.Expectancy.</th>\n",
       "      <th>Freedom</th>\n",
       "      <th>Generosity</th>\n",
       "      <th>Trust..Government.Corruption.</th>\n",
       "      <th>Dystopia.Residual</th>\n",
       "    </tr>\n",
       "  </thead>\n",
       "  <tbody>\n",
       "    <tr>\n",
       "      <th>81</th>\n",
       "      <td>Venezuela</td>\n",
       "      <td>82</td>\n",
       "      <td>5.250</td>\n",
       "      <td>5.370032</td>\n",
       "      <td>5.129968</td>\n",
       "      <td>1.128431</td>\n",
       "      <td>1.431338</td>\n",
       "      <td>0.617144</td>\n",
       "      <td>0.153997</td>\n",
       "      <td>0.065020</td>\n",
       "      <td>0.064491</td>\n",
       "      <td>1.789464</td>\n",
       "    </tr>\n",
       "    <tr>\n",
       "      <th>142</th>\n",
       "      <td>Benin</td>\n",
       "      <td>143</td>\n",
       "      <td>3.657</td>\n",
       "      <td>3.745784</td>\n",
       "      <td>3.568217</td>\n",
       "      <td>0.431085</td>\n",
       "      <td>0.435300</td>\n",
       "      <td>0.209930</td>\n",
       "      <td>0.425963</td>\n",
       "      <td>0.207948</td>\n",
       "      <td>0.060929</td>\n",
       "      <td>1.885631</td>\n",
       "    </tr>\n",
       "    <tr>\n",
       "      <th>31</th>\n",
       "      <td>Thailand</td>\n",
       "      <td>32</td>\n",
       "      <td>6.424</td>\n",
       "      <td>6.509117</td>\n",
       "      <td>6.338883</td>\n",
       "      <td>1.127869</td>\n",
       "      <td>1.425792</td>\n",
       "      <td>0.647239</td>\n",
       "      <td>0.580201</td>\n",
       "      <td>0.572123</td>\n",
       "      <td>0.031613</td>\n",
       "      <td>2.039508</td>\n",
       "    </tr>\n",
       "    <tr>\n",
       "      <th>29</th>\n",
       "      <td>Panama</td>\n",
       "      <td>30</td>\n",
       "      <td>6.452</td>\n",
       "      <td>6.557131</td>\n",
       "      <td>6.346870</td>\n",
       "      <td>1.233748</td>\n",
       "      <td>1.373193</td>\n",
       "      <td>0.706156</td>\n",
       "      <td>0.550027</td>\n",
       "      <td>0.210557</td>\n",
       "      <td>0.070984</td>\n",
       "      <td>2.307200</td>\n",
       "    </tr>\n",
       "    <tr>\n",
       "      <th>118</th>\n",
       "      <td>Ethiopia</td>\n",
       "      <td>119</td>\n",
       "      <td>4.460</td>\n",
       "      <td>4.542729</td>\n",
       "      <td>4.377271</td>\n",
       "      <td>0.339234</td>\n",
       "      <td>0.864669</td>\n",
       "      <td>0.353410</td>\n",
       "      <td>0.408843</td>\n",
       "      <td>0.312651</td>\n",
       "      <td>0.165456</td>\n",
       "      <td>2.015744</td>\n",
       "    </tr>\n",
       "  </tbody>\n",
       "</table>\n",
       "</div>"
      ],
      "text/plain": [
       "       Country  Happiness.Rank  Happiness.Score  Whisker.high  Whisker.low  \\\n",
       "81   Venezuela              82            5.250      5.370032     5.129968   \n",
       "142      Benin             143            3.657      3.745784     3.568217   \n",
       "31    Thailand              32            6.424      6.509117     6.338883   \n",
       "29      Panama              30            6.452      6.557131     6.346870   \n",
       "118   Ethiopia             119            4.460      4.542729     4.377271   \n",
       "\n",
       "     Economy..GDP.per.Capita.    Family  Health..Life.Expectancy.   Freedom  \\\n",
       "81                   1.128431  1.431338                  0.617144  0.153997   \n",
       "142                  0.431085  0.435300                  0.209930  0.425963   \n",
       "31                   1.127869  1.425792                  0.647239  0.580201   \n",
       "29                   1.233748  1.373193                  0.706156  0.550027   \n",
       "118                  0.339234  0.864669                  0.353410  0.408843   \n",
       "\n",
       "     Generosity  Trust..Government.Corruption.  Dystopia.Residual  \n",
       "81     0.065020                       0.064491           1.789464  \n",
       "142    0.207948                       0.060929           1.885631  \n",
       "31     0.572123                       0.031613           2.039508  \n",
       "29     0.210557                       0.070984           2.307200  \n",
       "118    0.312651                       0.165456           2.015744  "
      ]
     },
     "execution_count": 104,
     "metadata": {},
     "output_type": "execute_result"
    }
   ],
   "source": [
    "test_set.head()"
   ]
  },
  {
   "cell_type": "markdown",
   "metadata": {},
   "source": [
    "# 3. Exploring and Visualizing the Data"
   ]
  },
  {
   "cell_type": "code",
   "execution_count": 105,
   "metadata": {},
   "outputs": [
    {
     "data": {
      "image/png": "[encoded data removed]",
      "text/plain": [
       "<Figure size 1440x1080 with 12 Axes>"
      ]
     },
     "metadata": {
      "needs_background": "light"
     },
     "output_type": "display_data"
    }
   ],
   "source": [
    "# Look at histograms\n",
    "%matplotlib inline\n",
    "import matplotlib.pyplot as plt\n",
    "happiness_df.hist(bins=50, figsize=(20,15))\n",
    "#save_fig(\"attribute_histogram_plots\")\n",
    "plt.show()"
   ]
  },
  {
   "cell_type": "code",
   "execution_count": 141,
   "metadata": {},
   "outputs": [
    {
     "data": {
      "text/plain": [
       "<matplotlib.axes._subplots.AxesSubplot at 0x1a2167f278>"
      ]
     },
     "execution_count": 141,
     "metadata": {},
     "output_type": "execute_result"
    },
    {
     "data": {
      "image/png": "[encoded data removed]",
      "text/plain": [
       "<Figure size 432x288 with 1 Axes>"
      ]
     },
     "metadata": {
      "needs_background": "light"
     },
     "output_type": "display_data"
    }
   ],
   "source": [
    "## some scatter plots\n",
    "happiness_df.plot(kind=\"scatter\",x=\"Generosity\",y=\"Happiness.Score\")"
   ]
  },
  {
   "cell_type": "code",
   "execution_count": 107,
   "metadata": {
    "scrolled": false
   },
   "outputs": [
    {
     "name": "stdout",
     "output_type": "stream",
     "text": [
      "                               Happiness.Rank  Happiness.Score  Whisker.high  \\\n",
      "Happiness.Rank                       1.000000        -0.992774     -0.993058   \n",
      "Happiness.Score                     -0.992774         1.000000      0.999497   \n",
      "Whisker.high                        -0.993058         0.999497      1.000000   \n",
      "Whisker.low                         -0.991533         0.999520      0.998036   \n",
      "Economy..GDP.per.Capita.            -0.813244         0.812469      0.811868   \n",
      "Family                              -0.736753         0.752737      0.750934   \n",
      "Health..Life.Expectancy.            -0.780716         0.781951      0.776634   \n",
      "Freedom                             -0.551608         0.570137      0.569907   \n",
      "Generosity                          -0.132620         0.155256      0.155462   \n",
      "Trust..Government.Corruption.       -0.405842         0.429080      0.426459   \n",
      "Dystopia.Residual                   -0.484506         0.475355      0.478824   \n",
      "\n",
      "                               Whisker.low  Economy..GDP.per.Capita.  \\\n",
      "Happiness.Rank                   -0.991533                 -0.813244   \n",
      "Happiness.Score                   0.999520                  0.812469   \n",
      "Whisker.high                      0.998036                  0.811868   \n",
      "Whisker.low                       1.000000                  0.812267   \n",
      "Economy..GDP.per.Capita.          0.812267                  1.000000   \n",
      "Family                            0.753767                  0.688296   \n",
      "Health..Life.Expectancy.          0.786385                  0.843077   \n",
      "Freedom                           0.569808                  0.369873   \n",
      "Generosity                        0.154904                 -0.019011   \n",
      "Trust..Government.Corruption.     0.431223                  0.350944   \n",
      "Dystopia.Residual                 0.471505                  0.024226   \n",
      "\n",
      "                                 Family  Health..Life.Expectancy.   Freedom  \\\n",
      "Happiness.Rank                -0.736753                 -0.780716 -0.551608   \n",
      "Happiness.Score                0.752737                  0.781951  0.570137   \n",
      "Whisker.high                   0.750934                  0.776634  0.569907   \n",
      "Whisker.low                    0.753767                  0.786385  0.569808   \n",
      "Economy..GDP.per.Capita.       0.688296                  0.843077  0.369873   \n",
      "Family                         1.000000                  0.612080  0.424966   \n",
      "Health..Life.Expectancy.       0.612080                  1.000000  0.349827   \n",
      "Freedom                        0.424966                  0.349827  1.000000   \n",
      "Generosity                     0.051693                  0.063191  0.316083   \n",
      "Trust..Government.Corruption.  0.231841                  0.279752  0.499183   \n",
      "Dystopia.Residual              0.070506                  0.054963  0.081926   \n",
      "\n",
      "                               Generosity  Trust..Government.Corruption.  \\\n",
      "Happiness.Rank                  -0.132620                      -0.405842   \n",
      "Happiness.Score                  0.155256                       0.429080   \n",
      "Whisker.high                     0.155462                       0.426459   \n",
      "Whisker.low                      0.154904                       0.431223   \n",
      "Economy..GDP.per.Capita.        -0.019011                       0.350944   \n",
      "Family                           0.051693                       0.231841   \n",
      "Health..Life.Expectancy.         0.063191                       0.279752   \n",
      "Freedom                          0.316083                       0.499183   \n",
      "Generosity                       1.000000                       0.294159   \n",
      "Trust..Government.Corruption.    0.294159                       1.000000   \n",
      "Dystopia.Residual               -0.116627                      -0.022755   \n",
      "\n",
      "                               Dystopia.Residual  \n",
      "Happiness.Rank                         -0.484506  \n",
      "Happiness.Score                         0.475355  \n",
      "Whisker.high                            0.478824  \n",
      "Whisker.low                             0.471505  \n",
      "Economy..GDP.per.Capita.                0.024226  \n",
      "Family                                  0.070506  \n",
      "Health..Life.Expectancy.                0.054963  \n",
      "Freedom                                 0.081926  \n",
      "Generosity                             -0.116627  \n",
      "Trust..Government.Corruption.          -0.022755  \n",
      "Dystopia.Residual                       1.000000  \n"
     ]
    }
   ],
   "source": [
    "## look at correlations\n",
    "corr_matrix = happiness_df.corr()\n",
    "print(corr_matrix)"
   ]
  },
  {
   "cell_type": "markdown",
   "metadata": {},
   "source": [
    "Along with \"Happiness.Score\", we selected \"Economy..GDP.per.Capita.\", \"Family\", \"Health..Life.Expectancy.\", and \"Freedom\" to see visually on scatter plots since each of those attributes had the highest correlations with Happiness Score (0.81, 0.75, 0.78, and 0.57 respectively). "
   ]
  },
  {
   "cell_type": "code",
   "execution_count": 108,
   "metadata": {},
   "outputs": [
    {
     "data": {
      "text/plain": [
       "array([[<matplotlib.axes._subplots.AxesSubplot object at 0x1a1f14fa90>,\n",
       "        <matplotlib.axes._subplots.AxesSubplot object at 0x1a214f5390>,\n",
       "        <matplotlib.axes._subplots.AxesSubplot object at 0x1a21504908>,\n",
       "        <matplotlib.axes._subplots.AxesSubplot object at 0x1a2157ae80>,\n",
       "        <matplotlib.axes._subplots.AxesSubplot object at 0x1a1f06c438>],\n",
       "       [<matplotlib.axes._subplots.AxesSubplot object at 0x1a1f07b9b0>,\n",
       "        <matplotlib.axes._subplots.AxesSubplot object at 0x1a1f07eef0>,\n",
       "        <matplotlib.axes._subplots.AxesSubplot object at 0x1a2153f4e0>,\n",
       "        <matplotlib.axes._subplots.AxesSubplot object at 0x1a2153f518>,\n",
       "        <matplotlib.axes._subplots.AxesSubplot object at 0x1a2220cf98>],\n",
       "       [<matplotlib.axes._subplots.AxesSubplot object at 0x1a222db550>,\n",
       "        <matplotlib.axes._subplots.AxesSubplot object at 0x1a22303ac8>,\n",
       "        <matplotlib.axes._subplots.AxesSubplot object at 0x1a22334080>,\n",
       "        <matplotlib.axes._subplots.AxesSubplot object at 0x1a2235a5f8>,\n",
       "        <matplotlib.axes._subplots.AxesSubplot object at 0x1a22383b70>],\n",
       "       [<matplotlib.axes._subplots.AxesSubplot object at 0x1a2122b2b0>,\n",
       "        <matplotlib.axes._subplots.AxesSubplot object at 0x1a20da95c0>,\n",
       "        <matplotlib.axes._subplots.AxesSubplot object at 0x1a1f362c50>,\n",
       "        <matplotlib.axes._subplots.AxesSubplot object at 0x1a220699b0>,\n",
       "        <matplotlib.axes._subplots.AxesSubplot object at 0x1a21ca1c18>],\n",
       "       [<matplotlib.axes._subplots.AxesSubplot object at 0x1a216d6b70>,\n",
       "        <matplotlib.axes._subplots.AxesSubplot object at 0x1a1f0fd438>,\n",
       "        <matplotlib.axes._subplots.AxesSubplot object at 0x1a1f0d1a20>,\n",
       "        <matplotlib.axes._subplots.AxesSubplot object at 0x1a21694470>,\n",
       "        <matplotlib.axes._subplots.AxesSubplot object at 0x1a21628c88>]],\n",
       "      dtype=object)"
      ]
     },
     "execution_count": 108,
     "metadata": {},
     "output_type": "execute_result"
    },
    {
     "data": {
      "image/png": "[encoded data removed]",
      "text/plain": [
       "<Figure size 864x576 with 25 Axes>"
      ]
     },
     "metadata": {
      "needs_background": "light"
     },
     "output_type": "display_data"
    }
   ],
   "source": [
    "from pandas.plotting import scatter_matrix\n",
    "attributes = [\"Happiness.Score\",\"Economy..GDP.per.Capita.\", \"Family\", \"Health..Life.Expectancy.\",\n",
    "              \"Freedom\"]\n",
    "scatter_matrix(happiness_df[attributes], figsize=(12, 8))"
   ]
  },
  {
   "cell_type": "markdown",
   "metadata": {},
   "source": [
    "Most interesting one?!??! **************"
   ]
  },
  {
   "cell_type": "markdown",
   "metadata": {},
   "source": [
    "# 4. Data Cleaning"
   ]
  },
  {
   "cell_type": "code",
   "execution_count": 109,
   "metadata": {},
   "outputs": [
    {
     "data": {
      "text/html": [
       "<div>\n",
       "<style scoped>\n",
       "    .dataframe tbody tr th:only-of-type {\n",
       "        vertical-align: middle;\n",
       "    }\n",
       "\n",
       "    .dataframe tbody tr th {\n",
       "        vertical-align: top;\n",
       "    }\n",
       "\n",
       "    .dataframe thead th {\n",
       "        text-align: right;\n",
       "    }\n",
       "</style>\n",
       "<table border=\"1\" class=\"dataframe\">\n",
       "  <thead>\n",
       "    <tr style=\"text-align: right;\">\n",
       "      <th></th>\n",
       "      <th>Country</th>\n",
       "      <th>Happiness.Rank</th>\n",
       "      <th>Happiness.Score</th>\n",
       "      <th>Whisker.high</th>\n",
       "      <th>Whisker.low</th>\n",
       "      <th>Economy..GDP.per.Capita.</th>\n",
       "      <th>Family</th>\n",
       "      <th>Health..Life.Expectancy.</th>\n",
       "      <th>Freedom</th>\n",
       "      <th>Generosity</th>\n",
       "      <th>Trust..Government.Corruption.</th>\n",
       "      <th>Dystopia.Residual</th>\n",
       "    </tr>\n",
       "  </thead>\n",
       "  <tbody>\n",
       "  </tbody>\n",
       "</table>\n",
       "</div>"
      ],
      "text/plain": [
       "Empty DataFrame\n",
       "Columns: [Country, Happiness.Rank, Happiness.Score, Whisker.high, Whisker.low, Economy..GDP.per.Capita., Family, Health..Life.Expectancy., Freedom, Generosity, Trust..Government.Corruption., Dystopia.Residual]\n",
       "Index: []"
      ]
     },
     "execution_count": 109,
     "metadata": {},
     "output_type": "execute_result"
    }
   ],
   "source": [
    "# Detect missing values\n",
    "incomplete_rows = happiness_df[happiness_df.isnull().any(axis=1)].head()\n",
    "incomplete_rows"
   ]
  },
  {
   "cell_type": "markdown",
   "metadata": {},
   "source": [
    "There are no \"missing values\"."
   ]
  },
  {
   "cell_type": "code",
   "execution_count": 110,
   "metadata": {},
   "outputs": [
    {
     "data": {
      "text/html": [
       "<div>\n",
       "<style scoped>\n",
       "    .dataframe tbody tr th:only-of-type {\n",
       "        vertical-align: middle;\n",
       "    }\n",
       "\n",
       "    .dataframe tbody tr th {\n",
       "        vertical-align: top;\n",
       "    }\n",
       "\n",
       "    .dataframe thead th {\n",
       "        text-align: right;\n",
       "    }\n",
       "</style>\n",
       "<table border=\"1\" class=\"dataframe\">\n",
       "  <thead>\n",
       "    <tr style=\"text-align: right;\">\n",
       "      <th></th>\n",
       "      <th>Happiness.Score</th>\n",
       "      <th>Economy..GDP.per.Capita.</th>\n",
       "      <th>Family</th>\n",
       "      <th>Health..Life.Expectancy.</th>\n",
       "      <th>Freedom</th>\n",
       "    </tr>\n",
       "  </thead>\n",
       "  <tbody>\n",
       "    <tr>\n",
       "      <th>96</th>\n",
       "      <td>5.011</td>\n",
       "      <td>0.885416</td>\n",
       "      <td>1.340127</td>\n",
       "      <td>0.495879</td>\n",
       "      <td>0.501538</td>\n",
       "    </tr>\n",
       "    <tr>\n",
       "      <th>122</th>\n",
       "      <td>4.292</td>\n",
       "      <td>0.648457</td>\n",
       "      <td>1.272031</td>\n",
       "      <td>0.285349</td>\n",
       "      <td>0.096098</td>\n",
       "    </tr>\n",
       "    <tr>\n",
       "      <th>82</th>\n",
       "      <td>5.237</td>\n",
       "      <td>1.121129</td>\n",
       "      <td>1.238376</td>\n",
       "      <td>0.667465</td>\n",
       "      <td>0.194989</td>\n",
       "    </tr>\n",
       "    <tr>\n",
       "      <th>109</th>\n",
       "      <td>4.608</td>\n",
       "      <td>0.586683</td>\n",
       "      <td>0.735132</td>\n",
       "      <td>0.533241</td>\n",
       "      <td>0.478357</td>\n",
       "    </tr>\n",
       "    <tr>\n",
       "      <th>65</th>\n",
       "      <td>5.611</td>\n",
       "      <td>1.320879</td>\n",
       "      <td>1.476671</td>\n",
       "      <td>0.695168</td>\n",
       "      <td>0.479131</td>\n",
       "    </tr>\n",
       "  </tbody>\n",
       "</table>\n",
       "</div>"
      ],
      "text/plain": [
       "     Happiness.Score  Economy..GDP.per.Capita.    Family  \\\n",
       "96             5.011                  0.885416  1.340127   \n",
       "122            4.292                  0.648457  1.272031   \n",
       "82             5.237                  1.121129  1.238376   \n",
       "109            4.608                  0.586683  0.735132   \n",
       "65             5.611                  1.320879  1.476671   \n",
       "\n",
       "     Health..Life.Expectancy.   Freedom  \n",
       "96                   0.495879  0.501538  \n",
       "122                  0.285349  0.096098  \n",
       "82                   0.667465  0.194989  \n",
       "109                  0.533241  0.478357  \n",
       "65                   0.695168  0.479131  "
      ]
     },
     "execution_count": 110,
     "metadata": {},
     "output_type": "execute_result"
    }
   ],
   "source": [
    "happiness_train = train_set.drop(['Country', 'Happiness.Rank', 'Whisker.high', 'Whisker.low','Generosity', 'Trust..Government.Corruption.', 'Dystopia.Residual'], axis=1) # drop labels for training set\n",
    "happiness_test = test_set.drop(['Country', 'Happiness.Rank', 'Whisker.high', 'Whisker.low','Generosity', 'Trust..Government.Corruption.', 'Dystopia.Residual'], axis=1) # drop labels for training set\n",
    "\n",
    "\n",
    "happiness_train.head()"
   ]
  },
  {
   "cell_type": "code",
   "execution_count": 111,
   "metadata": {},
   "outputs": [
    {
     "data": {
      "text/html": [
       "<div>\n",
       "<style scoped>\n",
       "    .dataframe tbody tr th:only-of-type {\n",
       "        vertical-align: middle;\n",
       "    }\n",
       "\n",
       "    .dataframe tbody tr th {\n",
       "        vertical-align: top;\n",
       "    }\n",
       "\n",
       "    .dataframe thead th {\n",
       "        text-align: right;\n",
       "    }\n",
       "</style>\n",
       "<table border=\"1\" class=\"dataframe\">\n",
       "  <thead>\n",
       "    <tr style=\"text-align: right;\">\n",
       "      <th></th>\n",
       "      <th>Happiness.Score</th>\n",
       "      <th>Economy..GDP.per.Capita.</th>\n",
       "      <th>Family</th>\n",
       "      <th>Health..Life.Expectancy.</th>\n",
       "      <th>Freedom</th>\n",
       "    </tr>\n",
       "  </thead>\n",
       "  <tbody>\n",
       "    <tr>\n",
       "      <th>81</th>\n",
       "      <td>5.250</td>\n",
       "      <td>1.128431</td>\n",
       "      <td>1.431338</td>\n",
       "      <td>0.617144</td>\n",
       "      <td>0.153997</td>\n",
       "    </tr>\n",
       "    <tr>\n",
       "      <th>142</th>\n",
       "      <td>3.657</td>\n",
       "      <td>0.431085</td>\n",
       "      <td>0.435300</td>\n",
       "      <td>0.209930</td>\n",
       "      <td>0.425963</td>\n",
       "    </tr>\n",
       "    <tr>\n",
       "      <th>31</th>\n",
       "      <td>6.424</td>\n",
       "      <td>1.127869</td>\n",
       "      <td>1.425792</td>\n",
       "      <td>0.647239</td>\n",
       "      <td>0.580201</td>\n",
       "    </tr>\n",
       "    <tr>\n",
       "      <th>29</th>\n",
       "      <td>6.452</td>\n",
       "      <td>1.233748</td>\n",
       "      <td>1.373193</td>\n",
       "      <td>0.706156</td>\n",
       "      <td>0.550027</td>\n",
       "    </tr>\n",
       "    <tr>\n",
       "      <th>118</th>\n",
       "      <td>4.460</td>\n",
       "      <td>0.339234</td>\n",
       "      <td>0.864669</td>\n",
       "      <td>0.353410</td>\n",
       "      <td>0.408843</td>\n",
       "    </tr>\n",
       "  </tbody>\n",
       "</table>\n",
       "</div>"
      ],
      "text/plain": [
       "     Happiness.Score  Economy..GDP.per.Capita.    Family  \\\n",
       "81             5.250                  1.128431  1.431338   \n",
       "142            3.657                  0.431085  0.435300   \n",
       "31             6.424                  1.127869  1.425792   \n",
       "29             6.452                  1.233748  1.373193   \n",
       "118            4.460                  0.339234  0.864669   \n",
       "\n",
       "     Health..Life.Expectancy.   Freedom  \n",
       "81                   0.617144  0.153997  \n",
       "142                  0.209930  0.425963  \n",
       "31                   0.647239  0.580201  \n",
       "29                   0.706156  0.550027  \n",
       "118                  0.353410  0.408843  "
      ]
     },
     "execution_count": 111,
     "metadata": {},
     "output_type": "execute_result"
    }
   ],
   "source": [
    "happiness_test.head()"
   ]
  },
  {
   "cell_type": "markdown",
   "metadata": {},
   "source": [
    "We dropped the columns for \"Country\", \"Happiness Rank\", \"Whisker High\", and \"Whisker Low\" because to us, they were restating the Happiness Score in different ways, which we found to be a bit redundant."
   ]
  },
  {
   "cell_type": "markdown",
   "metadata": {},
   "source": [
    "Next, we separate the labels to prepare for regression, as well as drop Happiness Score from the training set."
   ]
  },
  {
   "cell_type": "code",
   "execution_count": 112,
   "metadata": {},
   "outputs": [
    {
     "data": {
      "text/plain": [
       "96     5.011\n",
       "122    4.292\n",
       "82     5.237\n",
       "109    4.608\n",
       "65     5.611\n",
       "Name: Happiness.Score, dtype: float64"
      ]
     },
     "execution_count": 112,
     "metadata": {},
     "output_type": "execute_result"
    }
   ],
   "source": [
    "happiness_labels = happiness_train[\"Happiness.Score\"].copy()\n",
    "happiness_labels.head()"
   ]
  },
  {
   "cell_type": "code",
   "execution_count": 113,
   "metadata": {},
   "outputs": [
    {
     "data": {
      "text/html": [
       "<div>\n",
       "<style scoped>\n",
       "    .dataframe tbody tr th:only-of-type {\n",
       "        vertical-align: middle;\n",
       "    }\n",
       "\n",
       "    .dataframe tbody tr th {\n",
       "        vertical-align: top;\n",
       "    }\n",
       "\n",
       "    .dataframe thead th {\n",
       "        text-align: right;\n",
       "    }\n",
       "</style>\n",
       "<table border=\"1\" class=\"dataframe\">\n",
       "  <thead>\n",
       "    <tr style=\"text-align: right;\">\n",
       "      <th></th>\n",
       "      <th>Economy..GDP.per.Capita.</th>\n",
       "      <th>Family</th>\n",
       "      <th>Health..Life.Expectancy.</th>\n",
       "      <th>Freedom</th>\n",
       "    </tr>\n",
       "  </thead>\n",
       "  <tbody>\n",
       "    <tr>\n",
       "      <th>96</th>\n",
       "      <td>0.885416</td>\n",
       "      <td>1.340127</td>\n",
       "      <td>0.495879</td>\n",
       "      <td>0.501538</td>\n",
       "    </tr>\n",
       "    <tr>\n",
       "      <th>122</th>\n",
       "      <td>0.648457</td>\n",
       "      <td>1.272031</td>\n",
       "      <td>0.285349</td>\n",
       "      <td>0.096098</td>\n",
       "    </tr>\n",
       "    <tr>\n",
       "      <th>82</th>\n",
       "      <td>1.121129</td>\n",
       "      <td>1.238376</td>\n",
       "      <td>0.667465</td>\n",
       "      <td>0.194989</td>\n",
       "    </tr>\n",
       "    <tr>\n",
       "      <th>109</th>\n",
       "      <td>0.586683</td>\n",
       "      <td>0.735132</td>\n",
       "      <td>0.533241</td>\n",
       "      <td>0.478357</td>\n",
       "    </tr>\n",
       "    <tr>\n",
       "      <th>65</th>\n",
       "      <td>1.320879</td>\n",
       "      <td>1.476671</td>\n",
       "      <td>0.695168</td>\n",
       "      <td>0.479131</td>\n",
       "    </tr>\n",
       "  </tbody>\n",
       "</table>\n",
       "</div>"
      ],
      "text/plain": [
       "     Economy..GDP.per.Capita.    Family  Health..Life.Expectancy.   Freedom\n",
       "96                   0.885416  1.340127                  0.495879  0.501538\n",
       "122                  0.648457  1.272031                  0.285349  0.096098\n",
       "82                   1.121129  1.238376                  0.667465  0.194989\n",
       "109                  0.586683  0.735132                  0.533241  0.478357\n",
       "65                   1.320879  1.476671                  0.695168  0.479131"
      ]
     },
     "execution_count": 113,
     "metadata": {},
     "output_type": "execute_result"
    }
   ],
   "source": [
    "happiness_prepared = happiness_train.drop(['Happiness.Score'], axis=1) # drop labels for training set\n",
    "happiness_prepared.head()"
   ]
  },
  {
   "cell_type": "markdown",
   "metadata": {},
   "source": [
    "# 5. Selecting a Model to Train"
   ]
  },
  {
   "cell_type": "markdown",
   "metadata": {},
   "source": [
    "## Model 1: Linear Regression Model"
   ]
  },
  {
   "cell_type": "code",
   "execution_count": 114,
   "metadata": {},
   "outputs": [
    {
     "data": {
      "text/plain": [
       "LinearRegression(copy_X=True, fit_intercept=True, n_jobs=None,\n",
       "         normalize=False)"
      ]
     },
     "execution_count": 114,
     "metadata": {},
     "output_type": "execute_result"
    }
   ],
   "source": [
    "from sklearn.linear_model import LinearRegression\n",
    "\n",
    "\n",
    "lin_reg = LinearRegression()\n",
    "lin_reg.fit(happiness_prepared, happiness_labels )"
   ]
  },
  {
   "cell_type": "markdown",
   "metadata": {},
   "source": [
    "After we trained our model to the training data, we compared our predicted Happiness Score to the actual scores with RMSE."
   ]
  },
  {
   "cell_type": "code",
   "execution_count": 115,
   "metadata": {},
   "outputs": [
    {
     "data": {
      "text/plain": [
       "0.5172565482763435"
      ]
     },
     "execution_count": 115,
     "metadata": {},
     "output_type": "execute_result"
    }
   ],
   "source": [
    "from sklearn.metrics import mean_squared_error\n",
    "\n",
    "happiness_predictions = lin_reg.predict(happiness_prepared)\n",
    "lin_mse = mean_squared_error(happiness_labels, happiness_predictions)\n",
    "lin_rmse = np.sqrt(lin_mse)\n",
    "lin_rmse"
   ]
  },
  {
   "cell_type": "markdown",
   "metadata": {},
   "source": [
    "## Model 2: Decision Tree Regression"
   ]
  },
  {
   "cell_type": "code",
   "execution_count": 116,
   "metadata": {},
   "outputs": [
    {
     "data": {
      "text/plain": [
       "DecisionTreeRegressor(criterion='mse', max_depth=None, max_features=None,\n",
       "           max_leaf_nodes=None, min_impurity_decrease=0.0,\n",
       "           min_impurity_split=None, min_samples_leaf=1,\n",
       "           min_samples_split=2, min_weight_fraction_leaf=0.0,\n",
       "           presort=False, random_state=42, splitter='best')"
      ]
     },
     "execution_count": 116,
     "metadata": {},
     "output_type": "execute_result"
    }
   ],
   "source": [
    "from sklearn.tree import DecisionTreeRegressor\n",
    "\n",
    "tree_reg = DecisionTreeRegressor(random_state=42)\n",
    "tree_reg.fit(happiness_prepared, happiness_labels)"
   ]
  },
  {
   "cell_type": "code",
   "execution_count": 117,
   "metadata": {},
   "outputs": [
    {
     "data": {
      "text/plain": [
       "0.0"
      ]
     },
     "execution_count": 117,
     "metadata": {},
     "output_type": "execute_result"
    }
   ],
   "source": [
    "happiness_predictionss = tree_reg.predict(happiness_prepared)\n",
    "tree_mse = mean_squared_error(happiness_labels, happiness_predictionss)\n",
    "tree_rmse = np.sqrt(tree_mse)\n",
    "tree_rmse"
   ]
  },
  {
   "cell_type": "markdown",
   "metadata": {},
   "source": [
    "The RMSE for the Decision Tree Regression is zero because the model is over-trained to the data. This means there is a chance that the model doesn't fit the test data well."
   ]
  },
  {
   "cell_type": "markdown",
   "metadata": {},
   "source": [
    "## Model 3: Random Forest Regression"
   ]
  },
  {
   "cell_type": "markdown",
   "metadata": {},
   "source": [
    "Train the model to the data."
   ]
  },
  {
   "cell_type": "code",
   "execution_count": 118,
   "metadata": {},
   "outputs": [
    {
     "data": {
      "text/plain": [
       "RandomForestRegressor(bootstrap=True, criterion='mse', max_depth=None,\n",
       "           max_features='auto', max_leaf_nodes=None,\n",
       "           min_impurity_decrease=0.0, min_impurity_split=None,\n",
       "           min_samples_leaf=1, min_samples_split=2,\n",
       "           min_weight_fraction_leaf=0.0, n_estimators=10, n_jobs=None,\n",
       "           oob_score=False, random_state=42, verbose=0, warm_start=False)"
      ]
     },
     "execution_count": 118,
     "metadata": {},
     "output_type": "execute_result"
    }
   ],
   "source": [
    "from sklearn.ensemble import RandomForestRegressor\n",
    "\n",
    "forest_reg = RandomForestRegressor(n_estimators=10, random_state=42)\n",
    "forest_reg.fit(happiness_prepared, happiness_labels)"
   ]
  },
  {
   "cell_type": "markdown",
   "metadata": {},
   "source": [
    "Calculate RMSE."
   ]
  },
  {
   "cell_type": "code",
   "execution_count": 119,
   "metadata": {},
   "outputs": [
    {
     "data": {
      "text/plain": [
       "0.23715622581250792"
      ]
     },
     "execution_count": 119,
     "metadata": {},
     "output_type": "execute_result"
    }
   ],
   "source": [
    "happiness_prediction = forest_reg.predict(happiness_prepared)\n",
    "forest_mse = mean_squared_error(happiness_labels, happiness_prediction)\n",
    "forest_rmse = np.sqrt(forest_mse)\n",
    "forest_rmse"
   ]
  },
  {
   "cell_type": "markdown",
   "metadata": {},
   "source": [
    "The RMSE of the Random Forest Regression is lower than the Linear Regression Model."
   ]
  },
  {
   "cell_type": "markdown",
   "metadata": {},
   "source": [
    "## Cross Validation of the models"
   ]
  },
  {
   "cell_type": "markdown",
   "metadata": {},
   "source": [
    "Now we cross validate each model to see how well each one fits the data best, overall."
   ]
  },
  {
   "cell_type": "code",
   "execution_count": 120,
   "metadata": {},
   "outputs": [],
   "source": [
    "from sklearn.model_selection import cross_val_score\n",
    "\n",
    "scores = cross_val_score(tree_reg, happiness_prepared, happiness_labels,\n",
    "                         scoring=\"neg_mean_squared_error\", cv=10)\n",
    "tree_rmse_scores = np.sqrt(-scores)"
   ]
  },
  {
   "cell_type": "markdown",
   "metadata": {},
   "source": [
    "Cross-Validation of Decision Tree"
   ]
  },
  {
   "cell_type": "code",
   "execution_count": 121,
   "metadata": {},
   "outputs": [
    {
     "name": "stdout",
     "output_type": "stream",
     "text": [
      "Scores: [0.57568908 0.97269089 0.56590394 0.58727745 0.72320517 0.73719957\n",
      " 0.46641866 0.53886179 0.45775367 0.79908396]\n",
      "Mean: 0.6424084181511536\n",
      "Standard deviation: 0.1543640874996768\n"
     ]
    }
   ],
   "source": [
    "def display_scores(scores):\n",
    "    print(\"Scores:\", scores)\n",
    "    print(\"Mean:\", scores.mean())\n",
    "    print(\"Standard deviation:\", scores.std())\n",
    "\n",
    "display_scores(tree_rmse_scores)"
   ]
  },
  {
   "cell_type": "markdown",
   "metadata": {},
   "source": [
    "Cross-Validation of Linear Regression"
   ]
  },
  {
   "cell_type": "code",
   "execution_count": 122,
   "metadata": {},
   "outputs": [
    {
     "name": "stdout",
     "output_type": "stream",
     "text": [
      "Scores: [0.28748501 0.86402717 0.4658636  0.56226582 0.46481232 0.50961805\n",
      " 0.35444071 0.59138948 0.53539715 0.58341451]\n",
      "Mean: 0.5218713819341059\n",
      "Standard deviation: 0.14731541523776667\n"
     ]
    }
   ],
   "source": [
    "lin_scores = cross_val_score(lin_reg, happiness_prepared, happiness_labels,\n",
    "                             scoring=\"neg_mean_squared_error\", cv=10)\n",
    "lin_rmse_scores = np.sqrt(-lin_scores)\n",
    "display_scores(lin_rmse_scores)"
   ]
  },
  {
   "cell_type": "markdown",
   "metadata": {},
   "source": [
    "Cross-Validation of Random Forest"
   ]
  },
  {
   "cell_type": "code",
   "execution_count": 123,
   "metadata": {},
   "outputs": [
    {
     "name": "stdout",
     "output_type": "stream",
     "text": [
      "Scores: [0.37899452 0.84872103 0.42126133 0.69611757 0.61598547 0.70762111\n",
      " 0.38531147 0.46183678 0.53637538 0.65888744]\n",
      "Mean: 0.5711112102832738\n",
      "Standard deviation: 0.15102316187035897\n"
     ]
    }
   ],
   "source": [
    "forest_scores = cross_val_score(forest_reg, happiness_prepared, happiness_labels,\n",
    "                                scoring=\"neg_mean_squared_error\", cv=10)\n",
    "forest_rmse_scores = np.sqrt(-forest_scores)\n",
    "display_scores(forest_rmse_scores)"
   ]
  },
  {
   "cell_type": "markdown",
   "metadata": {},
   "source": [
    "# 7. Fine-Tuning"
   ]
  },
  {
   "cell_type": "markdown",
   "metadata": {},
   "source": [
    "We have selected the Random Forest Regression model moving forward, and are now interested in selecting the best parameters and features."
   ]
  },
  {
   "cell_type": "code",
   "execution_count": 131,
   "metadata": {},
   "outputs": [
    {
     "name": "stderr",
     "output_type": "stream",
     "text": [
      "/Users/Vish/anaconda3/lib/python3.6/site-packages/sklearn/model_selection/_search.py:841: DeprecationWarning: The default of the `iid` parameter will change from True to False in version 0.22 and will be removed in 0.24. This will change numeric results when test-set sizes are unequal.\n",
      "  DeprecationWarning)\n"
     ]
    },
    {
     "data": {
      "text/plain": [
       "GridSearchCV(cv=5, error_score='raise-deprecating',\n",
       "       estimator=RandomForestRegressor(bootstrap=True, criterion='mse', max_depth=None,\n",
       "           max_features='auto', max_leaf_nodes=None,\n",
       "           min_impurity_decrease=0.0, min_impurity_split=None,\n",
       "           min_samples_leaf=1, min_samples_split=2,\n",
       "           min_weight_fraction_leaf=0.0, n_estimators='warn', n_jobs=None,\n",
       "           oob_score=False, random_state=42, verbose=0, warm_start=False),\n",
       "       fit_params=None, iid='warn', n_jobs=None,\n",
       "       param_grid=[{'n_estimators': [3, 10, 30], 'max_features': [2, 4]}, {'bootstrap': [False], 'n_estimators': [3, 10], 'max_features': [2, 3, 4]}],\n",
       "       pre_dispatch='2*n_jobs', refit=True, return_train_score=True,\n",
       "       scoring='neg_mean_squared_error', verbose=0)"
      ]
     },
     "execution_count": 131,
     "metadata": {},
     "output_type": "execute_result"
    }
   ],
   "source": [
    "from sklearn.model_selection import GridSearchCV\n",
    "\n",
    "param_grid = [\n",
    "    # try 12 (3×4) combinations of hyperparameters\n",
    "    {'n_estimators': [3, 10, 30], 'max_features': [2, 4]},\n",
    "    # then try 6 (2×3) combinations with bootstrap set as False\n",
    "    {'bootstrap': [False], 'n_estimators': [3, 10], 'max_features': [2, 3, 4]},\n",
    "  ]\n",
    "\n",
    "forest_reg = RandomForestRegressor(random_state=42)\n",
    "# train across 5 folds, that's a total of (12+6)*5=90 rounds of training \n",
    "grid_search = GridSearchCV(forest_reg, param_grid, cv=5,\n",
    "                           scoring='neg_mean_squared_error', return_train_score=True)\n",
    "grid_search.fit(happiness_prepared, happiness_labels)"
   ]
  },
  {
   "cell_type": "code",
   "execution_count": 132,
   "metadata": {},
   "outputs": [
    {
     "data": {
      "text/plain": [
       "{'max_features': 4, 'n_estimators': 30}"
      ]
     },
     "execution_count": 132,
     "metadata": {},
     "output_type": "execute_result"
    }
   ],
   "source": [
    "grid_search.best_params_"
   ]
  },
  {
   "cell_type": "code",
   "execution_count": 133,
   "metadata": {},
   "outputs": [
    {
     "data": {
      "text/plain": [
       "RandomForestRegressor(bootstrap=True, criterion='mse', max_depth=None,\n",
       "           max_features=4, max_leaf_nodes=None, min_impurity_decrease=0.0,\n",
       "           min_impurity_split=None, min_samples_leaf=1,\n",
       "           min_samples_split=2, min_weight_fraction_leaf=0.0,\n",
       "           n_estimators=30, n_jobs=None, oob_score=False, random_state=42,\n",
       "           verbose=0, warm_start=False)"
      ]
     },
     "execution_count": 133,
     "metadata": {},
     "output_type": "execute_result"
    }
   ],
   "source": [
    "grid_search.best_estimator_"
   ]
  },
  {
   "cell_type": "code",
   "execution_count": 134,
   "metadata": {},
   "outputs": [
    {
     "data": {
      "text/html": [
       "<div>\n",
       "<style scoped>\n",
       "    .dataframe tbody tr th:only-of-type {\n",
       "        vertical-align: middle;\n",
       "    }\n",
       "\n",
       "    .dataframe tbody tr th {\n",
       "        vertical-align: top;\n",
       "    }\n",
       "\n",
       "    .dataframe thead th {\n",
       "        text-align: right;\n",
       "    }\n",
       "</style>\n",
       "<table border=\"1\" class=\"dataframe\">\n",
       "  <thead>\n",
       "    <tr style=\"text-align: right;\">\n",
       "      <th></th>\n",
       "      <th>mean_fit_time</th>\n",
       "      <th>std_fit_time</th>\n",
       "      <th>mean_score_time</th>\n",
       "      <th>std_score_time</th>\n",
       "      <th>param_max_features</th>\n",
       "      <th>param_n_estimators</th>\n",
       "      <th>param_bootstrap</th>\n",
       "      <th>params</th>\n",
       "      <th>split0_test_score</th>\n",
       "      <th>split1_test_score</th>\n",
       "      <th>...</th>\n",
       "      <th>mean_test_score</th>\n",
       "      <th>std_test_score</th>\n",
       "      <th>rank_test_score</th>\n",
       "      <th>split0_train_score</th>\n",
       "      <th>split1_train_score</th>\n",
       "      <th>split2_train_score</th>\n",
       "      <th>split3_train_score</th>\n",
       "      <th>split4_train_score</th>\n",
       "      <th>mean_train_score</th>\n",
       "      <th>std_train_score</th>\n",
       "    </tr>\n",
       "  </thead>\n",
       "  <tbody>\n",
       "    <tr>\n",
       "      <th>0</th>\n",
       "      <td>0.005735</td>\n",
       "      <td>0.000846</td>\n",
       "      <td>0.001759</td>\n",
       "      <td>0.000404</td>\n",
       "      <td>2</td>\n",
       "      <td>3</td>\n",
       "      <td>NaN</td>\n",
       "      <td>{'max_features': 2, 'n_estimators': 3}</td>\n",
       "      <td>-0.472722</td>\n",
       "      <td>-0.362271</td>\n",
       "      <td>...</td>\n",
       "      <td>-0.403164</td>\n",
       "      <td>0.063625</td>\n",
       "      <td>10</td>\n",
       "      <td>-1.047807e-01</td>\n",
       "      <td>-8.733664e-02</td>\n",
       "      <td>-1.133644e-01</td>\n",
       "      <td>-1.173658e-01</td>\n",
       "      <td>-7.340702e-02</td>\n",
       "      <td>-9.925090e-02</td>\n",
       "      <td>1.653948e-02</td>\n",
       "    </tr>\n",
       "    <tr>\n",
       "      <th>1</th>\n",
       "      <td>0.007820</td>\n",
       "      <td>0.000434</td>\n",
       "      <td>0.001421</td>\n",
       "      <td>0.000038</td>\n",
       "      <td>2</td>\n",
       "      <td>10</td>\n",
       "      <td>NaN</td>\n",
       "      <td>{'max_features': 2, 'n_estimators': 10}</td>\n",
       "      <td>-0.415830</td>\n",
       "      <td>-0.290820</td>\n",
       "      <td>...</td>\n",
       "      <td>-0.323462</td>\n",
       "      <td>0.079544</td>\n",
       "      <td>4</td>\n",
       "      <td>-5.952062e-02</td>\n",
       "      <td>-5.887622e-02</td>\n",
       "      <td>-6.215261e-02</td>\n",
       "      <td>-6.798787e-02</td>\n",
       "      <td>-5.428317e-02</td>\n",
       "      <td>-6.056410e-02</td>\n",
       "      <td>4.494965e-03</td>\n",
       "    </tr>\n",
       "    <tr>\n",
       "      <th>2</th>\n",
       "      <td>0.019835</td>\n",
       "      <td>0.000684</td>\n",
       "      <td>0.002270</td>\n",
       "      <td>0.000024</td>\n",
       "      <td>2</td>\n",
       "      <td>30</td>\n",
       "      <td>NaN</td>\n",
       "      <td>{'max_features': 2, 'n_estimators': 30}</td>\n",
       "      <td>-0.428719</td>\n",
       "      <td>-0.277415</td>\n",
       "      <td>...</td>\n",
       "      <td>-0.300482</td>\n",
       "      <td>0.090024</td>\n",
       "      <td>2</td>\n",
       "      <td>-4.727392e-02</td>\n",
       "      <td>-5.524364e-02</td>\n",
       "      <td>-5.798952e-02</td>\n",
       "      <td>-5.642794e-02</td>\n",
       "      <td>-4.951165e-02</td>\n",
       "      <td>-5.328933e-02</td>\n",
       "      <td>4.152544e-03</td>\n",
       "    </tr>\n",
       "    <tr>\n",
       "      <th>3</th>\n",
       "      <td>0.003809</td>\n",
       "      <td>0.000595</td>\n",
       "      <td>0.001112</td>\n",
       "      <td>0.000101</td>\n",
       "      <td>4</td>\n",
       "      <td>3</td>\n",
       "      <td>NaN</td>\n",
       "      <td>{'max_features': 4, 'n_estimators': 3}</td>\n",
       "      <td>-0.472590</td>\n",
       "      <td>-0.350398</td>\n",
       "      <td>...</td>\n",
       "      <td>-0.376660</td>\n",
       "      <td>0.097841</td>\n",
       "      <td>9</td>\n",
       "      <td>-8.812145e-02</td>\n",
       "      <td>-8.869570e-02</td>\n",
       "      <td>-9.861400e-02</td>\n",
       "      <td>-9.117250e-02</td>\n",
       "      <td>-9.929683e-02</td>\n",
       "      <td>-9.318010e-02</td>\n",
       "      <td>4.830569e-03</td>\n",
       "    </tr>\n",
       "    <tr>\n",
       "      <th>4</th>\n",
       "      <td>0.007998</td>\n",
       "      <td>0.000163</td>\n",
       "      <td>0.001395</td>\n",
       "      <td>0.000036</td>\n",
       "      <td>4</td>\n",
       "      <td>10</td>\n",
       "      <td>NaN</td>\n",
       "      <td>{'max_features': 4, 'n_estimators': 10}</td>\n",
       "      <td>-0.396673</td>\n",
       "      <td>-0.302975</td>\n",
       "      <td>...</td>\n",
       "      <td>-0.310074</td>\n",
       "      <td>0.074937</td>\n",
       "      <td>3</td>\n",
       "      <td>-5.762329e-02</td>\n",
       "      <td>-7.175430e-02</td>\n",
       "      <td>-6.642386e-02</td>\n",
       "      <td>-6.778639e-02</td>\n",
       "      <td>-5.719847e-02</td>\n",
       "      <td>-6.415726e-02</td>\n",
       "      <td>5.781707e-03</td>\n",
       "    </tr>\n",
       "    <tr>\n",
       "      <th>5</th>\n",
       "      <td>0.022846</td>\n",
       "      <td>0.002171</td>\n",
       "      <td>0.002516</td>\n",
       "      <td>0.000258</td>\n",
       "      <td>4</td>\n",
       "      <td>30</td>\n",
       "      <td>NaN</td>\n",
       "      <td>{'max_features': 4, 'n_estimators': 30}</td>\n",
       "      <td>-0.398185</td>\n",
       "      <td>-0.282852</td>\n",
       "      <td>...</td>\n",
       "      <td>-0.295593</td>\n",
       "      <td>0.076130</td>\n",
       "      <td>1</td>\n",
       "      <td>-4.539087e-02</td>\n",
       "      <td>-5.415911e-02</td>\n",
       "      <td>-5.880546e-02</td>\n",
       "      <td>-5.787017e-02</td>\n",
       "      <td>-5.034467e-02</td>\n",
       "      <td>-5.331406e-02</td>\n",
       "      <td>4.964310e-03</td>\n",
       "    </tr>\n",
       "    <tr>\n",
       "      <th>6</th>\n",
       "      <td>0.003247</td>\n",
       "      <td>0.000035</td>\n",
       "      <td>0.001030</td>\n",
       "      <td>0.000037</td>\n",
       "      <td>2</td>\n",
       "      <td>3</td>\n",
       "      <td>False</td>\n",
       "      <td>{'bootstrap': False, 'max_features': 2, 'n_est...</td>\n",
       "      <td>-0.410305</td>\n",
       "      <td>-0.318678</td>\n",
       "      <td>...</td>\n",
       "      <td>-0.370859</td>\n",
       "      <td>0.067071</td>\n",
       "      <td>8</td>\n",
       "      <td>-0.000000e+00</td>\n",
       "      <td>-0.000000e+00</td>\n",
       "      <td>-0.000000e+00</td>\n",
       "      <td>-0.000000e+00</td>\n",
       "      <td>-0.000000e+00</td>\n",
       "      <td>0.000000e+00</td>\n",
       "      <td>0.000000e+00</td>\n",
       "    </tr>\n",
       "    <tr>\n",
       "      <th>7</th>\n",
       "      <td>0.007615</td>\n",
       "      <td>0.000143</td>\n",
       "      <td>0.001405</td>\n",
       "      <td>0.000059</td>\n",
       "      <td>2</td>\n",
       "      <td>10</td>\n",
       "      <td>False</td>\n",
       "      <td>{'bootstrap': False, 'max_features': 2, 'n_est...</td>\n",
       "      <td>-0.437188</td>\n",
       "      <td>-0.296509</td>\n",
       "      <td>...</td>\n",
       "      <td>-0.339229</td>\n",
       "      <td>0.094413</td>\n",
       "      <td>5</td>\n",
       "      <td>-6.593762e-31</td>\n",
       "      <td>-6.334792e-31</td>\n",
       "      <td>-6.832810e-31</td>\n",
       "      <td>-6.553920e-31</td>\n",
       "      <td>-6.370052e-31</td>\n",
       "      <td>-6.537067e-31</td>\n",
       "      <td>1.787577e-32</td>\n",
       "    </tr>\n",
       "    <tr>\n",
       "      <th>8</th>\n",
       "      <td>0.003373</td>\n",
       "      <td>0.000056</td>\n",
       "      <td>0.001036</td>\n",
       "      <td>0.000021</td>\n",
       "      <td>3</td>\n",
       "      <td>3</td>\n",
       "      <td>False</td>\n",
       "      <td>{'bootstrap': False, 'max_features': 3, 'n_est...</td>\n",
       "      <td>-0.457981</td>\n",
       "      <td>-0.304927</td>\n",
       "      <td>...</td>\n",
       "      <td>-0.367991</td>\n",
       "      <td>0.083172</td>\n",
       "      <td>7</td>\n",
       "      <td>-0.000000e+00</td>\n",
       "      <td>-0.000000e+00</td>\n",
       "      <td>-0.000000e+00</td>\n",
       "      <td>-0.000000e+00</td>\n",
       "      <td>-0.000000e+00</td>\n",
       "      <td>0.000000e+00</td>\n",
       "      <td>0.000000e+00</td>\n",
       "    </tr>\n",
       "    <tr>\n",
       "      <th>9</th>\n",
       "      <td>0.008136</td>\n",
       "      <td>0.000273</td>\n",
       "      <td>0.001377</td>\n",
       "      <td>0.000030</td>\n",
       "      <td>3</td>\n",
       "      <td>10</td>\n",
       "      <td>False</td>\n",
       "      <td>{'bootstrap': False, 'max_features': 3, 'n_est...</td>\n",
       "      <td>-0.474336</td>\n",
       "      <td>-0.276805</td>\n",
       "      <td>...</td>\n",
       "      <td>-0.353994</td>\n",
       "      <td>0.088394</td>\n",
       "      <td>6</td>\n",
       "      <td>-6.593762e-31</td>\n",
       "      <td>-6.334792e-31</td>\n",
       "      <td>-6.832810e-31</td>\n",
       "      <td>-6.553920e-31</td>\n",
       "      <td>-6.370052e-31</td>\n",
       "      <td>-6.537067e-31</td>\n",
       "      <td>1.787577e-32</td>\n",
       "    </tr>\n",
       "    <tr>\n",
       "      <th>10</th>\n",
       "      <td>0.003611</td>\n",
       "      <td>0.000302</td>\n",
       "      <td>0.001113</td>\n",
       "      <td>0.000217</td>\n",
       "      <td>4</td>\n",
       "      <td>3</td>\n",
       "      <td>False</td>\n",
       "      <td>{'bootstrap': False, 'max_features': 4, 'n_est...</td>\n",
       "      <td>-0.680799</td>\n",
       "      <td>-0.306490</td>\n",
       "      <td>...</td>\n",
       "      <td>-0.445774</td>\n",
       "      <td>0.150099</td>\n",
       "      <td>11</td>\n",
       "      <td>-0.000000e+00</td>\n",
       "      <td>-0.000000e+00</td>\n",
       "      <td>-0.000000e+00</td>\n",
       "      <td>-0.000000e+00</td>\n",
       "      <td>-0.000000e+00</td>\n",
       "      <td>0.000000e+00</td>\n",
       "      <td>0.000000e+00</td>\n",
       "    </tr>\n",
       "    <tr>\n",
       "      <th>11</th>\n",
       "      <td>0.009457</td>\n",
       "      <td>0.000501</td>\n",
       "      <td>0.001589</td>\n",
       "      <td>0.000177</td>\n",
       "      <td>4</td>\n",
       "      <td>10</td>\n",
       "      <td>False</td>\n",
       "      <td>{'bootstrap': False, 'max_features': 4, 'n_est...</td>\n",
       "      <td>-0.691703</td>\n",
       "      <td>-0.313491</td>\n",
       "      <td>...</td>\n",
       "      <td>-0.450052</td>\n",
       "      <td>0.149149</td>\n",
       "      <td>12</td>\n",
       "      <td>-6.593762e-31</td>\n",
       "      <td>-6.334792e-31</td>\n",
       "      <td>-6.832810e-31</td>\n",
       "      <td>-6.553920e-31</td>\n",
       "      <td>-6.370052e-31</td>\n",
       "      <td>-6.537067e-31</td>\n",
       "      <td>1.787577e-32</td>\n",
       "    </tr>\n",
       "  </tbody>\n",
       "</table>\n",
       "<p>12 rows × 23 columns</p>\n",
       "</div>"
      ],
      "text/plain": [
       "    mean_fit_time  std_fit_time  mean_score_time  std_score_time  \\\n",
       "0        0.005735      0.000846         0.001759        0.000404   \n",
       "1        0.007820      0.000434         0.001421        0.000038   \n",
       "2        0.019835      0.000684         0.002270        0.000024   \n",
       "3        0.003809      0.000595         0.001112        0.000101   \n",
       "4        0.007998      0.000163         0.001395        0.000036   \n",
       "5        0.022846      0.002171         0.002516        0.000258   \n",
       "6        0.003247      0.000035         0.001030        0.000037   \n",
       "7        0.007615      0.000143         0.001405        0.000059   \n",
       "8        0.003373      0.000056         0.001036        0.000021   \n",
       "9        0.008136      0.000273         0.001377        0.000030   \n",
       "10       0.003611      0.000302         0.001113        0.000217   \n",
       "11       0.009457      0.000501         0.001589        0.000177   \n",
       "\n",
       "   param_max_features param_n_estimators param_bootstrap  \\\n",
       "0                   2                  3             NaN   \n",
       "1                   2                 10             NaN   \n",
       "2                   2                 30             NaN   \n",
       "3                   4                  3             NaN   \n",
       "4                   4                 10             NaN   \n",
       "5                   4                 30             NaN   \n",
       "6                   2                  3           False   \n",
       "7                   2                 10           False   \n",
       "8                   3                  3           False   \n",
       "9                   3                 10           False   \n",
       "10                  4                  3           False   \n",
       "11                  4                 10           False   \n",
       "\n",
       "                                               params  split0_test_score  \\\n",
       "0              {'max_features': 2, 'n_estimators': 3}          -0.472722   \n",
       "1             {'max_features': 2, 'n_estimators': 10}          -0.415830   \n",
       "2             {'max_features': 2, 'n_estimators': 30}          -0.428719   \n",
       "3              {'max_features': 4, 'n_estimators': 3}          -0.472590   \n",
       "4             {'max_features': 4, 'n_estimators': 10}          -0.396673   \n",
       "5             {'max_features': 4, 'n_estimators': 30}          -0.398185   \n",
       "6   {'bootstrap': False, 'max_features': 2, 'n_est...          -0.410305   \n",
       "7   {'bootstrap': False, 'max_features': 2, 'n_est...          -0.437188   \n",
       "8   {'bootstrap': False, 'max_features': 3, 'n_est...          -0.457981   \n",
       "9   {'bootstrap': False, 'max_features': 3, 'n_est...          -0.474336   \n",
       "10  {'bootstrap': False, 'max_features': 4, 'n_est...          -0.680799   \n",
       "11  {'bootstrap': False, 'max_features': 4, 'n_est...          -0.691703   \n",
       "\n",
       "    split1_test_score       ...         mean_test_score  std_test_score  \\\n",
       "0           -0.362271       ...               -0.403164        0.063625   \n",
       "1           -0.290820       ...               -0.323462        0.079544   \n",
       "2           -0.277415       ...               -0.300482        0.090024   \n",
       "3           -0.350398       ...               -0.376660        0.097841   \n",
       "4           -0.302975       ...               -0.310074        0.074937   \n",
       "5           -0.282852       ...               -0.295593        0.076130   \n",
       "6           -0.318678       ...               -0.370859        0.067071   \n",
       "7           -0.296509       ...               -0.339229        0.094413   \n",
       "8           -0.304927       ...               -0.367991        0.083172   \n",
       "9           -0.276805       ...               -0.353994        0.088394   \n",
       "10          -0.306490       ...               -0.445774        0.150099   \n",
       "11          -0.313491       ...               -0.450052        0.149149   \n",
       "\n",
       "    rank_test_score  split0_train_score  split1_train_score  \\\n",
       "0                10       -1.047807e-01       -8.733664e-02   \n",
       "1                 4       -5.952062e-02       -5.887622e-02   \n",
       "2                 2       -4.727392e-02       -5.524364e-02   \n",
       "3                 9       -8.812145e-02       -8.869570e-02   \n",
       "4                 3       -5.762329e-02       -7.175430e-02   \n",
       "5                 1       -4.539087e-02       -5.415911e-02   \n",
       "6                 8       -0.000000e+00       -0.000000e+00   \n",
       "7                 5       -6.593762e-31       -6.334792e-31   \n",
       "8                 7       -0.000000e+00       -0.000000e+00   \n",
       "9                 6       -6.593762e-31       -6.334792e-31   \n",
       "10               11       -0.000000e+00       -0.000000e+00   \n",
       "11               12       -6.593762e-31       -6.334792e-31   \n",
       "\n",
       "    split2_train_score  split3_train_score  split4_train_score  \\\n",
       "0        -1.133644e-01       -1.173658e-01       -7.340702e-02   \n",
       "1        -6.215261e-02       -6.798787e-02       -5.428317e-02   \n",
       "2        -5.798952e-02       -5.642794e-02       -4.951165e-02   \n",
       "3        -9.861400e-02       -9.117250e-02       -9.929683e-02   \n",
       "4        -6.642386e-02       -6.778639e-02       -5.719847e-02   \n",
       "5        -5.880546e-02       -5.787017e-02       -5.034467e-02   \n",
       "6        -0.000000e+00       -0.000000e+00       -0.000000e+00   \n",
       "7        -6.832810e-31       -6.553920e-31       -6.370052e-31   \n",
       "8        -0.000000e+00       -0.000000e+00       -0.000000e+00   \n",
       "9        -6.832810e-31       -6.553920e-31       -6.370052e-31   \n",
       "10       -0.000000e+00       -0.000000e+00       -0.000000e+00   \n",
       "11       -6.832810e-31       -6.553920e-31       -6.370052e-31   \n",
       "\n",
       "    mean_train_score  std_train_score  \n",
       "0      -9.925090e-02     1.653948e-02  \n",
       "1      -6.056410e-02     4.494965e-03  \n",
       "2      -5.328933e-02     4.152544e-03  \n",
       "3      -9.318010e-02     4.830569e-03  \n",
       "4      -6.415726e-02     5.781707e-03  \n",
       "5      -5.331406e-02     4.964310e-03  \n",
       "6       0.000000e+00     0.000000e+00  \n",
       "7      -6.537067e-31     1.787577e-32  \n",
       "8       0.000000e+00     0.000000e+00  \n",
       "9      -6.537067e-31     1.787577e-32  \n",
       "10      0.000000e+00     0.000000e+00  \n",
       "11     -6.537067e-31     1.787577e-32  \n",
       "\n",
       "[12 rows x 23 columns]"
      ]
     },
     "execution_count": 134,
     "metadata": {},
     "output_type": "execute_result"
    }
   ],
   "source": [
    "pd.DataFrame(grid_search.cv_results_)"
   ]
  },
  {
   "cell_type": "markdown",
   "metadata": {},
   "source": [
    "Since we have identified one of the Grid Search combinations to be the best, we make that the final forest model."
   ]
  },
  {
   "cell_type": "code",
   "execution_count": 143,
   "metadata": {},
   "outputs": [],
   "source": [
    "randomforest_final = grid_search.best_estimator_"
   ]
  },
  {
   "cell_type": "markdown",
   "metadata": {},
   "source": [
    "# 8. Evaluate the models"
   ]
  },
  {
   "cell_type": "markdown",
   "metadata": {},
   "source": [
    "Evaluate each model with the testing set. Begin by preparing the test set and its labels."
   ]
  },
  {
   "cell_type": "code",
   "execution_count": 124,
   "metadata": {},
   "outputs": [
    {
     "data": {
      "text/plain": [
       "81     5.250\n",
       "142    3.657\n",
       "31     6.424\n",
       "29     6.452\n",
       "118    4.460\n",
       "Name: Happiness.Score, dtype: float64"
      ]
     },
     "execution_count": 124,
     "metadata": {},
     "output_type": "execute_result"
    }
   ],
   "source": [
    "happiness_test_labels = happiness_test[\"Happiness.Score\"].copy()\n",
    "happiness_test_labels.head()"
   ]
  },
  {
   "cell_type": "code",
   "execution_count": 125,
   "metadata": {},
   "outputs": [
    {
     "data": {
      "text/html": [
       "<div>\n",
       "<style scoped>\n",
       "    .dataframe tbody tr th:only-of-type {\n",
       "        vertical-align: middle;\n",
       "    }\n",
       "\n",
       "    .dataframe tbody tr th {\n",
       "        vertical-align: top;\n",
       "    }\n",
       "\n",
       "    .dataframe thead th {\n",
       "        text-align: right;\n",
       "    }\n",
       "</style>\n",
       "<table border=\"1\" class=\"dataframe\">\n",
       "  <thead>\n",
       "    <tr style=\"text-align: right;\">\n",
       "      <th></th>\n",
       "      <th>Economy..GDP.per.Capita.</th>\n",
       "      <th>Family</th>\n",
       "      <th>Health..Life.Expectancy.</th>\n",
       "      <th>Freedom</th>\n",
       "    </tr>\n",
       "  </thead>\n",
       "  <tbody>\n",
       "    <tr>\n",
       "      <th>81</th>\n",
       "      <td>1.128431</td>\n",
       "      <td>1.431338</td>\n",
       "      <td>0.617144</td>\n",
       "      <td>0.153997</td>\n",
       "    </tr>\n",
       "    <tr>\n",
       "      <th>142</th>\n",
       "      <td>0.431085</td>\n",
       "      <td>0.435300</td>\n",
       "      <td>0.209930</td>\n",
       "      <td>0.425963</td>\n",
       "    </tr>\n",
       "    <tr>\n",
       "      <th>31</th>\n",
       "      <td>1.127869</td>\n",
       "      <td>1.425792</td>\n",
       "      <td>0.647239</td>\n",
       "      <td>0.580201</td>\n",
       "    </tr>\n",
       "    <tr>\n",
       "      <th>29</th>\n",
       "      <td>1.233748</td>\n",
       "      <td>1.373193</td>\n",
       "      <td>0.706156</td>\n",
       "      <td>0.550027</td>\n",
       "    </tr>\n",
       "    <tr>\n",
       "      <th>118</th>\n",
       "      <td>0.339234</td>\n",
       "      <td>0.864669</td>\n",
       "      <td>0.353410</td>\n",
       "      <td>0.408843</td>\n",
       "    </tr>\n",
       "  </tbody>\n",
       "</table>\n",
       "</div>"
      ],
      "text/plain": [
       "     Economy..GDP.per.Capita.    Family  Health..Life.Expectancy.   Freedom\n",
       "81                   1.128431  1.431338                  0.617144  0.153997\n",
       "142                  0.431085  0.435300                  0.209930  0.425963\n",
       "31                   1.127869  1.425792                  0.647239  0.580201\n",
       "29                   1.233748  1.373193                  0.706156  0.550027\n",
       "118                  0.339234  0.864669                  0.353410  0.408843"
      ]
     },
     "execution_count": 125,
     "metadata": {},
     "output_type": "execute_result"
    }
   ],
   "source": [
    "happiness_test_prepared = happiness_test.drop(['Happiness.Score'], axis=1) # drop labels for test set\n",
    "happiness_test_prepared.head()"
   ]
  },
  {
   "cell_type": "markdown",
   "metadata": {},
   "source": [
    "## Model 1: Linear Regression Model"
   ]
  },
  {
   "cell_type": "markdown",
   "metadata": {},
   "source": [
    "Run the test data through the Linear Regression Model"
   ]
  },
  {
   "cell_type": "code",
   "execution_count": 127,
   "metadata": {},
   "outputs": [
    {
     "data": {
      "text/plain": [
       "0.41875606803563736"
      ]
     },
     "execution_count": 127,
     "metadata": {},
     "output_type": "execute_result"
    }
   ],
   "source": [
    "happiness_test_predictions = lin_reg.predict(happiness_test_prepared)\n",
    "lin_mse = mean_squared_error(happiness_test_labels, happiness_test_predictions)\n",
    "lin_rmse = np.sqrt(lin_mse)\n",
    "lin_rmse"
   ]
  },
  {
   "cell_type": "markdown",
   "metadata": {},
   "source": [
    "## Model 2: Decision Tree Regression"
   ]
  },
  {
   "cell_type": "code",
   "execution_count": 128,
   "metadata": {},
   "outputs": [
    {
     "data": {
      "text/plain": [
       "0.6602087211429659"
      ]
     },
     "execution_count": 128,
     "metadata": {},
     "output_type": "execute_result"
    }
   ],
   "source": [
    "happiness_test_predictionss = tree_reg.predict(happiness_test_prepared)\n",
    "tree_mse = mean_squared_error(happiness_test_labels, happiness_test_predictionss)\n",
    "tree_rmse = np.sqrt(tree_mse)\n",
    "tree_rmse"
   ]
  },
  {
   "cell_type": "markdown",
   "metadata": {},
   "source": [
    "## Model 3: Random Forest Regression"
   ]
  },
  {
   "cell_type": "code",
   "execution_count": 137,
   "metadata": {},
   "outputs": [
    {
     "data": {
      "text/plain": [
       "0.4752208818291083"
      ]
     },
     "execution_count": 137,
     "metadata": {},
     "output_type": "execute_result"
    }
   ],
   "source": [
    "happiness_test_prediction = randomforest_final.predict(happiness_test_prepared)\n",
    "forest_mse = mean_squared_error(happiness_test_labels, happiness_test_prediction)\n",
    "forest_rmse = np.sqrt(forest_mse)\n",
    "forest_rmse"
   ]
  },
  {
   "cell_type": "markdown",
   "metadata": {},
   "source": [
    "### Calculate the 95% confidence interval of the error"
   ]
  },
  {
   "cell_type": "code",
   "execution_count": 139,
   "metadata": {},
   "outputs": [
    {
     "data": {
      "text/plain": [
       "array([0.32349665, 0.58908377])"
      ]
     },
     "execution_count": 139,
     "metadata": {},
     "output_type": "execute_result"
    }
   ],
   "source": [
    "from scipy import stats\n",
    "confidence = 0.95\n",
    "squared_errors = (happiness_test_prediction - happiness_test_labels) ** 2\n",
    "mean = squared_errors.mean()\n",
    "m = len(squared_errors)\n",
    "\n",
    "np.sqrt(stats.t.interval(confidence, m - 1,\n",
    "                         loc=np.mean(squared_errors),\n",
    "                         scale=stats.sem(squared_errors)))"
   ]
  },
  {
   "cell_type": "markdown",
   "metadata": {},
   "source": [
    "### Graph the predicted vs actual happines score"
   ]
  },
  {
   "cell_type": "markdown",
   "metadata": {},
   "source": [
    "For the linear model:"
   ]
  },
  {
   "cell_type": "code",
   "execution_count": 144,
   "metadata": {},
   "outputs": [
    {
     "data": {
      "text/plain": [
       "Text(0.5, 1.0, 'Predictions (black) on Real World Happiness Scores from 2017 (green)')"
      ]
     },
     "execution_count": 144,
     "metadata": {},
     "output_type": "execute_result"
    },
    {
     "data": {
      "image/png": "[encoded data removed]",
      "text/plain": [
       "<Figure size 432x288 with 1 Axes>"
      ]
     },
     "metadata": {
      "needs_background": "light"
     },
     "output_type": "display_data"
    }
   ],
   "source": [
    "pred_arr = np.array(happiness_test_predictions)\n",
    "act_arr = np.array(happiness_test_labels)\n",
    "plt.plot(pred_arr, color=\"Black\")\n",
    "plt.plot(act_arr, color=\"Green\")\n",
    "plt.title(\"Predictions (black) on Real World Happiness Scores from 2017 (green)\")"
   ]
  },
  {
   "cell_type": "markdown",
   "metadata": {},
   "source": [
    "For the Random Forest Model:"
   ]
  },
  {
   "cell_type": "code",
   "execution_count": 145,
   "metadata": {},
   "outputs": [
    {
     "data": {
      "text/plain": [
       "Text(0.5, 1.0, 'Predictions (red) on Real World Happiness Scores from 2017 (green)')"
      ]
     },
     "execution_count": 145,
     "metadata": {},
     "output_type": "execute_result"
    },
    {
     "data": {
      "image/png": "[encoded data removed]",
      "text/plain": [
       "<Figure size 432x288 with 1 Axes>"
      ]
     },
     "metadata": {
      "needs_background": "light"
     },
     "output_type": "display_data"
    }
   ],
   "source": [
    "pred_arr = np.array(happiness_test_prediction)\n",
    "act_arr = np.array(happiness_test_labels)\n",
    "plt.plot(pred_arr, color=\"red\")\n",
    "plt.plot(act_arr, color=\"Green\")\n",
    "plt.title(\"Predictions (red) on Real World Happiness Scores from 2017 (green)\")"
   ]
  },
  {
   "cell_type": "code",
   "execution_count": null,
   "metadata": {},
   "outputs": [],
   "source": []
  }
 ],
 "metadata": {
  "kernelspec": {
   "display_name": "Python 3",
   "language": "python",
   "name": "python3"
  },
  "language_info": {
   "codemirror_mode": {
    "name": "ipython",
    "version": 3
   },
   "file_extension": ".py",
   "mimetype": "text/x-python",
   "name": "python",
   "nbconvert_exporter": "python",
   "pygments_lexer": "ipython3",
   "version": "3.6.7"
  }
 },
 "nbformat": 4,
 "nbformat_minor": 2
}
